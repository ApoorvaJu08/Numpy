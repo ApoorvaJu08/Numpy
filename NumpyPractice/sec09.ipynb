{
 "cells": [
  {
   "cell_type": "markdown",
   "metadata": {},
   "source": [
    "# Ones and Zeros\n"
   ]
  },
  {
   "cell_type": "code",
   "execution_count": 1,
   "metadata": {},
   "outputs": [
    {
     "name": "stdout",
     "output_type": "stream",
     "text": [
      "[[  0   0   0]\n",
      " [  0   0   0]\n",
      " [  0   0 176]]\n"
     ]
    }
   ],
   "source": [
    "import numpy as np\n",
    "\n",
    "x = np.empty([3, 3], np.uint8)\n",
    "print(x)"
   ]
  },
  {
   "cell_type": "code",
   "execution_count": 2,
   "metadata": {},
   "outputs": [
    {
     "name": "stdout",
     "output_type": "stream",
     "text": [
      "[[  0   0   0]\n",
      " [  0   0   0]\n",
      " [  0   0 176]]\n"
     ]
    }
   ],
   "source": [
    "print(x)"
   ]
  },
  {
   "cell_type": "code",
   "execution_count": 3,
   "metadata": {},
   "outputs": [
    {
     "name": "stdout",
     "output_type": "stream",
     "text": [
      "[[1 0 0]\n",
      " [0 1 0]\n",
      " [0 0 1]]\n"
     ]
    }
   ],
   "source": [
    "y = np.eye(3, dtype = np.uint8)\n",
    "print(y)"
   ]
  },
  {
   "cell_type": "code",
   "execution_count": 5,
   "metadata": {},
   "outputs": [
    {
     "name": "stdout",
     "output_type": "stream",
     "text": [
      "[[0 1 0 0 0]\n",
      " [0 0 1 0 0]\n",
      " [0 0 0 1 0]\n",
      " [0 0 0 0 1]\n",
      " [0 0 0 0 0]]\n"
     ]
    }
   ],
   "source": [
    "y = np.eye(5, dtype = np.uint8, k = 1)\n",
    "print(y)"
   ]
  },
  {
   "cell_type": "code",
   "execution_count": 6,
   "metadata": {},
   "outputs": [
    {
     "name": "stdout",
     "output_type": "stream",
     "text": [
      "[[1 0 0]\n",
      " [0 1 0]\n",
      " [0 0 1]]\n"
     ]
    }
   ],
   "source": [
    "z = np.identity(3, dtype = np.uint8)\n",
    "print(z)"
   ]
  },
  {
   "cell_type": "code",
   "execution_count": 7,
   "metadata": {},
   "outputs": [
    {
     "name": "stdout",
     "output_type": "stream",
     "text": [
      "[[[1 1 1 1 1]\n",
      "  [1 1 1 1 1]\n",
      "  [1 1 1 1 1]\n",
      "  [1 1 1 1 1]\n",
      "  [1 1 1 1 1]]\n",
      "\n",
      " [[1 1 1 1 1]\n",
      "  [1 1 1 1 1]\n",
      "  [1 1 1 1 1]\n",
      "  [1 1 1 1 1]\n",
      "  [1 1 1 1 1]]]\n"
     ]
    }
   ],
   "source": [
    "a = np.ones((2, 5, 5), dtype = np.int16)\n",
    "print(a)"
   ]
  },
  {
   "cell_type": "code",
   "execution_count": 8,
   "metadata": {},
   "outputs": [
    {
     "name": "stdout",
     "output_type": "stream",
     "text": [
      "[[[0 0 0 0 0]\n",
      "  [0 0 0 0 0]\n",
      "  [0 0 0 0 0]\n",
      "  [0 0 0 0 0]\n",
      "  [0 0 0 0 0]]\n",
      "\n",
      " [[0 0 0 0 0]\n",
      "  [0 0 0 0 0]\n",
      "  [0 0 0 0 0]\n",
      "  [0 0 0 0 0]\n",
      "  [0 0 0 0 0]]]\n"
     ]
    }
   ],
   "source": [
    "b = np.zeros((2, 5, 5), dtype = np.int16)\n",
    "print(b)"
   ]
  },
  {
   "cell_type": "code",
   "execution_count": 9,
   "metadata": {},
   "outputs": [
    {
     "name": "stdout",
     "output_type": "stream",
     "text": [
      "[[[[0 0]\n",
      "   [0 0]\n",
      "   [0 0]\n",
      "   [0 0]\n",
      "   [0 0]]\n",
      "\n",
      "  [[0 0]\n",
      "   [0 0]\n",
      "   [0 0]\n",
      "   [0 0]\n",
      "   [0 0]]\n",
      "\n",
      "  [[0 0]\n",
      "   [0 0]\n",
      "   [0 0]\n",
      "   [0 0]\n",
      "   [0 0]]\n",
      "\n",
      "  [[0 0]\n",
      "   [0 0]\n",
      "   [0 0]\n",
      "   [0 0]\n",
      "   [0 0]]\n",
      "\n",
      "  [[0 0]\n",
      "   [0 0]\n",
      "   [0 0]\n",
      "   [0 0]\n",
      "   [0 0]]]\n",
      "\n",
      "\n",
      " [[[0 0]\n",
      "   [0 0]\n",
      "   [0 0]\n",
      "   [0 0]\n",
      "   [0 0]]\n",
      "\n",
      "  [[0 0]\n",
      "   [0 0]\n",
      "   [0 0]\n",
      "   [0 0]\n",
      "   [0 0]]\n",
      "\n",
      "  [[0 0]\n",
      "   [0 0]\n",
      "   [0 0]\n",
      "   [0 0]\n",
      "   [0 0]]\n",
      "\n",
      "  [[0 0]\n",
      "   [0 0]\n",
      "   [0 0]\n",
      "   [0 0]\n",
      "   [0 0]]\n",
      "\n",
      "  [[0 0]\n",
      "   [0 0]\n",
      "   [0 0]\n",
      "   [0 0]\n",
      "   [0 0]]]]\n"
     ]
    }
   ],
   "source": [
    "c = np.zeros((2, 5, 5, 2), dtype = np.int16)\n",
    "print(c)"
   ]
  },
  {
   "cell_type": "code",
   "execution_count": 10,
   "metadata": {},
   "outputs": [
    {
     "name": "stdout",
     "output_type": "stream",
     "text": [
      "[[[5 5 5 5 5]\n",
      "  [5 5 5 5 5]\n",
      "  [5 5 5 5 5]\n",
      "  [5 5 5 5 5]\n",
      "  [5 5 5 5 5]]\n",
      "\n",
      " [[5 5 5 5 5]\n",
      "  [5 5 5 5 5]\n",
      "  [5 5 5 5 5]\n",
      "  [5 5 5 5 5]\n",
      "  [5 5 5 5 5]]]\n"
     ]
    }
   ],
   "source": [
    "d = np.full((2, 5, 5), dtype = np.int16, fill_value = 5)\n",
    "print(d)"
   ]
  },
  {
   "cell_type": "markdown",
   "metadata": {},
   "source": [
    "# Matrix creation routines"
   ]
  },
  {
   "cell_type": "code",
   "execution_count": 11,
   "metadata": {},
   "outputs": [
    {
     "name": "stdout",
     "output_type": "stream",
     "text": [
      "[[1 0 0]\n",
      " [1 1 0]\n",
      " [1 1 1]]\n"
     ]
    }
   ],
   "source": [
    "e = np.tri(3, 3, k = 0, dtype = np.uint16)\n",
    "print(e)"
   ]
  },
  {
   "cell_type": "code",
   "execution_count": 12,
   "metadata": {},
   "outputs": [
    {
     "name": "stdout",
     "output_type": "stream",
     "text": [
      "[[0 0 0]\n",
      " [1 0 0]\n",
      " [1 1 0]]\n"
     ]
    }
   ],
   "source": [
    "f = np.tri(3, 3, k = -1, dtype = np.uint16)\n",
    "print(f)"
   ]
  },
  {
   "cell_type": "code",
   "execution_count": 13,
   "metadata": {},
   "outputs": [
    {
     "name": "stdout",
     "output_type": "stream",
     "text": [
      "[[1 1 0]\n",
      " [1 1 1]\n",
      " [1 1 1]]\n"
     ]
    }
   ],
   "source": [
    "g = np.tri(3, 3, k = 1, dtype = np.uint16)\n",
    "print(g)"
   ]
  },
  {
   "cell_type": "code",
   "execution_count": 14,
   "metadata": {},
   "outputs": [
    {
     "name": "stdout",
     "output_type": "stream",
     "text": [
      "[[0 0 0 0 0]\n",
      " [1 0 0 0 0]\n",
      " [1 1 0 0 0]\n",
      " [1 1 1 0 0]\n",
      " [1 1 1 1 0]]\n"
     ]
    }
   ],
   "source": [
    "h = np.ones((5, 5), dtype = np.int16)\n",
    "i = np.tril(h, k = -1)\n",
    "print(i)"
   ]
  },
  {
   "cell_type": "code",
   "execution_count": 18,
   "metadata": {},
   "outputs": [
    {
     "name": "stdout",
     "output_type": "stream",
     "text": [
      "[[1 1 1 1 1]\n",
      " [1 1 1 1 1]\n",
      " [0 1 1 1 1]\n",
      " [0 0 1 1 1]\n",
      " [0 0 0 1 1]]\n"
     ]
    }
   ],
   "source": [
    "j = np.ones((5, 5), dtype = np.int16)\n",
    "k = np.triu(j, k = -1)\n",
    "print(k)"
   ]
  },
  {
   "cell_type": "markdown",
   "metadata": {},
   "source": [
    "# Matplotlib"
   ]
  },
  {
   "cell_type": "code",
   "execution_count": 19,
   "metadata": {},
   "outputs": [],
   "source": [
    "%matplotlib inline"
   ]
  },
  {
   "cell_type": "code",
   "execution_count": 20,
   "metadata": {},
   "outputs": [],
   "source": [
    "import numpy as np\n",
    "import matplotlib.pyplot as plt"
   ]
  },
  {
   "cell_type": "code",
   "execution_count": 21,
   "metadata": {},
   "outputs": [
    {
     "ename": "AttributeError",
     "evalue": "module 'numpy' has no attribute 'arrange'",
     "output_type": "error",
     "traceback": [
      "\u001b[0;31m---------------------------------------------------------------------------\u001b[0m",
      "\u001b[0;31mAttributeError\u001b[0m                            Traceback (most recent call last)",
      "\u001b[0;32m<ipython-input-21-0f29db009ba1>\u001b[0m in \u001b[0;36m<module>\u001b[0;34m\u001b[0m\n\u001b[0;32m----> 1\u001b[0;31m \u001b[0mx\u001b[0m \u001b[0;34m=\u001b[0m \u001b[0mnp\u001b[0m\u001b[0;34m.\u001b[0m\u001b[0marrange\u001b[0m\u001b[0;34m(\u001b[0m\u001b[0;36m5\u001b[0m\u001b[0;34m)\u001b[0m\u001b[0;34m\u001b[0m\u001b[0;34m\u001b[0m\u001b[0m\n\u001b[0m\u001b[1;32m      2\u001b[0m \u001b[0mprint\u001b[0m\u001b[0;34m(\u001b[0m\u001b[0mx\u001b[0m\u001b[0;34m)\u001b[0m\u001b[0;34m\u001b[0m\u001b[0;34m\u001b[0m\u001b[0m\n",
      "\u001b[0;31mAttributeError\u001b[0m: module 'numpy' has no attribute 'arrange'"
     ]
    }
   ],
   "source": [
    "x = np.arrange(5)\n",
    "print(x)"
   ]
  },
  {
   "cell_type": "code",
   "execution_count": 22,
   "metadata": {},
   "outputs": [
    {
     "name": "stdout",
     "output_type": "stream",
     "text": [
      "[0 1 2 3 4]\n"
     ]
    }
   ],
   "source": [
    "x = np.arange(5)\n",
    "print(x)"
   ]
  },
  {
   "cell_type": "code",
   "execution_count": 23,
   "metadata": {},
   "outputs": [
    {
     "name": "stdout",
     "output_type": "stream",
     "text": [
      "[0 1 2 3 4]\n"
     ]
    }
   ],
   "source": [
    "y = x\n",
    "print(y)"
   ]
  },
  {
   "cell_type": "code",
   "execution_count": 24,
   "metadata": {},
   "outputs": [
    {
     "data": {
      "image/png": "[encoded data removed]",
      "text/plain": [
       "<Figure size 432x288 with 1 Axes>"
      ]
     },
     "metadata": {
      "needs_background": "light"
     },
     "output_type": "display_data"
    }
   ],
   "source": [
    "plt.plot(x, y, 'o')\n",
    "plt.show()"
   ]
  },
  {
   "cell_type": "code",
   "execution_count": 28,
   "metadata": {},
   "outputs": [
    {
     "data": {
      "image/png": "[encoded data removed]",
      "text/plain": [
       "<Figure size 432x288 with 1 Axes>"
      ]
     },
     "metadata": {
      "needs_background": "light"
     },
     "output_type": "display_data"
    }
   ],
   "source": [
    "plt.plot(x, y, 'o--')\n",
    "plt.plot(x, -y, 'o-')\n",
    "plt.title('y = x and y = -x')\n",
    "plt.show()"
   ]
  },
  {
   "cell_type": "code",
   "execution_count": 26,
   "metadata": {},
   "outputs": [
    {
     "data": {
      "image/png": "[encoded data removed]",
      "text/plain": [
       "<Figure size 432x288 with 1 Axes>"
      ]
     },
     "metadata": {
      "needs_background": "light"
     },
     "output_type": "display_data"
    }
   ],
   "source": [
    "plt.plot(x, y, 'o-')\n",
    "plt.show()"
   ]
  },
  {
   "cell_type": "code",
   "execution_count": 29,
   "metadata": {},
   "outputs": [
    {
     "name": "stdout",
     "output_type": "stream",
     "text": [
      "[ 0.          1.11111111  2.22222222  3.33333333  4.44444444  5.55555556\n",
      "  6.66666667  7.77777778  8.88888889 10.        ]\n"
     ]
    }
   ],
   "source": [
    "N = 10\n",
    "x = np.linspace(0, 10, N)\n",
    "print(x)\n",
    "y = x"
   ]
  },
  {
   "cell_type": "code",
   "execution_count": 30,
   "metadata": {},
   "outputs": [
    {
     "data": {
      "image/png": "[encoded data removed]",
      "text/plain": [
       "<Figure size 432x288 with 1 Axes>"
      ]
     },
     "metadata": {
      "needs_background": "light"
     },
     "output_type": "display_data"
    }
   ],
   "source": [
    "plt.plot(x, y, 'o-')\n",
    "plt.axis('off')\n",
    "plt.show()"
   ]
  },
  {
   "cell_type": "code",
   "execution_count": 33,
   "metadata": {},
   "outputs": [
    {
     "name": "stdout",
     "output_type": "stream",
     "text": [
      "[ 1.25892541  1.58489319  1.99526231  2.51188643  3.16227766  3.98107171\n",
      "  5.01187234  6.30957344  7.94328235 10.        ]\n"
     ]
    },
    {
     "data": {
      "image/png": "[encoded data removed]",
      "text/plain": [
       "<Figure size 432x288 with 1 Axes>"
      ]
     },
     "metadata": {
      "needs_background": "light"
     },
     "output_type": "display_data"
    }
   ],
   "source": [
    "y = np.logspace(0.1, 1, N)\n",
    "print(y)\n",
    "plt.plot(x, y, 'o-')\n",
    "plt.show()"
   ]
  },
  {
   "cell_type": "code",
   "execution_count": 37,
   "metadata": {},
   "outputs": [
    {
     "name": "stdout",
     "output_type": "stream",
     "text": [
      "[   1.            2.15443469    4.64158883   10.           21.5443469\n",
      "   46.41588834  100.          215.443469    464.15888336 1000.        ]\n"
     ]
    },
    {
     "data": {
      "image/png": "[encoded data removed]",
      "text/plain": [
       "<Figure size 432x288 with 1 Axes>"
      ]
     },
     "metadata": {
      "needs_background": "light"
     },
     "output_type": "display_data"
    }
   ],
   "source": [
    "y = np.geomspace(1, 1000, N)\n",
    "print(y)\n",
    "plt.plot(x, y, 'o-')\n",
    "plt.show()"
   ]
  },
  {
   "cell_type": "code",
   "execution_count": null,
   "metadata": {},
   "outputs": [],
   "source": []
  }
 ],
 "metadata": {
  "kernelspec": {
   "display_name": "Python 3",
   "language": "python",
   "name": "python3"
  },
  "language_info": {
   "codemirror_mode": {
    "name": "ipython",
    "version": 3
   },
   "file_extension": ".py",
   "mimetype": "text/x-python",
   "name": "python",
   "nbconvert_exporter": "python",
   "pygments_lexer": "ipython3",
   "version": "3.6.7"
  }
 },
 "nbformat": 4,
 "nbformat_minor": 2
}
